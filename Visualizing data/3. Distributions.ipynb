{
 "cells": [
  {
   "cell_type": "code",
   "execution_count": 1,
   "id": "36d9b185-cb35-450f-99eb-08fcfd66ed6a",
   "metadata": {},
   "outputs": [
    {
     "data": {
      "text/html": [
       "<div>\n",
       "<style scoped>\n",
       "    .dataframe tbody tr th:only-of-type {\n",
       "        vertical-align: middle;\n",
       "    }\n",
       "\n",
       "    .dataframe tbody tr th {\n",
       "        vertical-align: top;\n",
       "    }\n",
       "\n",
       "    .dataframe thead th {\n",
       "        text-align: right;\n",
       "    }\n",
       "</style>\n",
       "<table border=\"1\" class=\"dataframe\">\n",
       "  <thead>\n",
       "    <tr style=\"text-align: right;\">\n",
       "      <th></th>\n",
       "      <th>Hours of Sleep</th>\n",
       "      <th>Hours Studied</th>\n",
       "      <th>Grade on Test</th>\n",
       "      <th>Grade in Class</th>\n",
       "      <th>Cups of Coffee</th>\n",
       "    </tr>\n",
       "  </thead>\n",
       "  <tbody>\n",
       "    <tr>\n",
       "      <th>0</th>\n",
       "      <td>10.602667</td>\n",
       "      <td>4.586892</td>\n",
       "      <td>99</td>\n",
       "      <td>99.187294</td>\n",
       "      <td>5</td>\n",
       "    </tr>\n",
       "    <tr>\n",
       "      <th>1</th>\n",
       "      <td>8.172997</td>\n",
       "      <td>4.405120</td>\n",
       "      <td>72</td>\n",
       "      <td>67.070903</td>\n",
       "      <td>3</td>\n",
       "    </tr>\n",
       "    <tr>\n",
       "      <th>2</th>\n",
       "      <td>6.430132</td>\n",
       "      <td>0.519630</td>\n",
       "      <td>52</td>\n",
       "      <td>39.644696</td>\n",
       "      <td>4</td>\n",
       "    </tr>\n",
       "    <tr>\n",
       "      <th>3</th>\n",
       "      <td>7.963793</td>\n",
       "      <td>5.004348</td>\n",
       "      <td>80</td>\n",
       "      <td>61.843705</td>\n",
       "      <td>1</td>\n",
       "    </tr>\n",
       "    <tr>\n",
       "      <th>4</th>\n",
       "      <td>8.279421</td>\n",
       "      <td>2.984489</td>\n",
       "      <td>87</td>\n",
       "      <td>103.495002</td>\n",
       "      <td>0</td>\n",
       "    </tr>\n",
       "  </tbody>\n",
       "</table>\n",
       "</div>"
      ],
      "text/plain": [
       "   Hours of Sleep  Hours Studied  Grade on Test  Grade in Class  \\\n",
       "0       10.602667       4.586892             99       99.187294   \n",
       "1        8.172997       4.405120             72       67.070903   \n",
       "2        6.430132       0.519630             52       39.644696   \n",
       "3        7.963793       5.004348             80       61.843705   \n",
       "4        8.279421       2.984489             87      103.495002   \n",
       "\n",
       "   Cups of Coffee  \n",
       "0               5  \n",
       "1               3  \n",
       "2               4  \n",
       "3               1  \n",
       "4               0  "
      ]
     },
     "execution_count": 1,
     "metadata": {},
     "output_type": "execute_result"
    }
   ],
   "source": [
    "import pandas as pd\n",
    "import seaborn as sns\n",
    "student_data = pd.read_csv('student_data.csv')\n",
    "student_data.head()"
   ]
  },
  {
   "cell_type": "code",
   "execution_count": 3,
   "id": "cbc63305-37d0-48ef-b030-a82da1e69584",
   "metadata": {},
   "outputs": [
    {
     "data": {
      "text/plain": [
       "Cups of Coffee\n",
       "0     35\n",
       "1     67\n",
       "2     44\n",
       "3     38\n",
       "4      6\n",
       "5      5\n",
       "6      3\n",
       "8      1\n",
       "10     1\n",
       "Name: count, dtype: int64"
      ]
     },
     "execution_count": 3,
     "metadata": {},
     "output_type": "execute_result"
    }
   ],
   "source": [
    "#how many students are drinking how many cups of coffee\n",
    "student_data['Cups of Coffee'].value_counts().sort_index()"
   ]
  },
  {
   "cell_type": "code",
   "execution_count": 4,
   "id": "392a4375-a6ad-497e-8d16-d2010158449a",
   "metadata": {},
   "outputs": [
    {
     "data": {
      "image/png": "[encoded data removed]",
      "text/plain": [
       "<Figure size 640x480 with 1 Axes>"
      ]
     },
     "metadata": {},
     "output_type": "display_data"
    }
   ],
   "source": [
    "sns.histplot(student_data['Cups of Coffee']);"
   ]
  },
  {
   "cell_type": "code",
   "execution_count": 8,
   "id": "335b0486-f0fc-47f6-89ac-7d82084a8f3e",
   "metadata": {},
   "outputs": [
    {
     "data": {
      "image/png": "[encoded data removed]",
      "text/plain": [
       "<Figure size 640x480 with 1 Axes>"
      ]
     },
     "metadata": {},
     "output_type": "display_data"
    }
   ],
   "source": [
    "sns.histplot(student_data['Cups of Coffee'], bins =10, color = 'purple');"
   ]
  },
  {
   "cell_type": "code",
   "execution_count": 11,
   "id": "eccd1d35-c13b-483d-9c15-d0ada0e55ef4",
   "metadata": {},
   "outputs": [
    {
     "data": {
      "text/plain": [
       "Hours Studied\n",
       "0.157700    1\n",
       "0.254401    1\n",
       "0.254626    1\n",
       "0.359262    1\n",
       "0.519630    1\n",
       "           ..\n",
       "6.905597    1\n",
       "7.232638    1\n",
       "7.381272    1\n",
       "7.465042    1\n",
       "7.738695    1\n",
       "Name: count, Length: 200, dtype: int64"
      ]
     },
     "execution_count": 11,
     "metadata": {},
     "output_type": "execute_result"
    }
   ],
   "source": [
    "#how many students stuyding how many hours\n",
    "student_data['Hours Studied'].value_counts().sort_index()"
   ]
  },
  {
   "cell_type": "code",
   "execution_count": 12,
   "id": "8cf5903e-4359-4147-9834-174412a05a48",
   "metadata": {},
   "outputs": [
    {
     "data": {
      "text/plain": [
       "0      5.0\n",
       "1      4.0\n",
       "2      1.0\n",
       "3      5.0\n",
       "4      3.0\n",
       "      ... \n",
       "195    3.0\n",
       "196    3.0\n",
       "197    2.0\n",
       "198    5.0\n",
       "199    1.0\n",
       "Name: Hours Studied, Length: 200, dtype: float64"
      ]
     },
     "execution_count": 12,
     "metadata": {},
     "output_type": "execute_result"
    }
   ],
   "source": [
    "student_data['Hours Studied'].round()"
   ]
  },
  {
   "cell_type": "code",
   "execution_count": 13,
   "id": "60fcaf5b-6745-418d-86ae-31eb6b7f7149",
   "metadata": {},
   "outputs": [
    {
     "data": {
      "text/plain": [
       "Hours Studied\n",
       "0.0     4\n",
       "1.0    18\n",
       "2.0    23\n",
       "3.0    53\n",
       "4.0    38\n",
       "5.0    37\n",
       "6.0    19\n",
       "7.0     7\n",
       "8.0     1\n",
       "Name: count, dtype: int64"
      ]
     },
     "execution_count": 13,
     "metadata": {},
     "output_type": "execute_result"
    }
   ],
   "source": [
    "student_data['Hours Studied'].round().value_counts().sort_index()"
   ]
  },
  {
   "cell_type": "code",
   "execution_count": 17,
   "id": "76731467-0795-408c-be34-70d33354865f",
   "metadata": {},
   "outputs": [
    {
     "data": {
      "image/png": "[encoded data removed]",
      "text/plain": [
       "<Figure size 640x480 with 1 Axes>"
      ]
     },
     "metadata": {},
     "output_type": "display_data"
    }
   ],
   "source": [
    "sns.histplot(student_data['Hours Studied'], bins =30, color = 'purple');"
   ]
  }
 ],
 "metadata": {
  "kernelspec": {
   "display_name": "Python 3 (ipykernel)",
   "language": "python",
   "name": "python3"
  },
  "language_info": {
   "codemirror_mode": {
    "name": "ipython",
    "version": 3
   },
   "file_extension": ".py",
   "mimetype": "text/x-python",
   "name": "python",
   "nbconvert_exporter": "python",
   "pygments_lexer": "ipython3",
   "version": "3.12.7"
  }
 },
 "nbformat": 4,
 "nbformat_minor": 5
}
