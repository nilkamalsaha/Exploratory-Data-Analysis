{
 "cells": [
  {
   "cell_type": "code",
   "execution_count": 1,
   "id": "5d1bdaeb-1b42-4fe0-996e-c89867152d22",
   "metadata": {},
   "outputs": [
    {
     "data": {
      "text/html": [
       "<div>\n",
       "<style scoped>\n",
       "    .dataframe tbody tr th:only-of-type {\n",
       "        vertical-align: middle;\n",
       "    }\n",
       "\n",
       "    .dataframe tbody tr th {\n",
       "        vertical-align: top;\n",
       "    }\n",
       "\n",
       "    .dataframe thead th {\n",
       "        text-align: right;\n",
       "    }\n",
       "</style>\n",
       "<table border=\"1\" class=\"dataframe\">\n",
       "  <thead>\n",
       "    <tr style=\"text-align: right;\">\n",
       "      <th></th>\n",
       "      <th>Hours of Sleep</th>\n",
       "      <th>Hours Studied</th>\n",
       "      <th>Grade on Test</th>\n",
       "      <th>Grade in Class</th>\n",
       "      <th>Cups of Coffee</th>\n",
       "    </tr>\n",
       "  </thead>\n",
       "  <tbody>\n",
       "    <tr>\n",
       "      <th>0</th>\n",
       "      <td>10.602667</td>\n",
       "      <td>4.586892</td>\n",
       "      <td>99</td>\n",
       "      <td>99.187294</td>\n",
       "      <td>5</td>\n",
       "    </tr>\n",
       "    <tr>\n",
       "      <th>1</th>\n",
       "      <td>8.172997</td>\n",
       "      <td>4.405120</td>\n",
       "      <td>72</td>\n",
       "      <td>67.070903</td>\n",
       "      <td>3</td>\n",
       "    </tr>\n",
       "    <tr>\n",
       "      <th>2</th>\n",
       "      <td>6.430132</td>\n",
       "      <td>0.519630</td>\n",
       "      <td>52</td>\n",
       "      <td>39.644696</td>\n",
       "      <td>4</td>\n",
       "    </tr>\n",
       "    <tr>\n",
       "      <th>3</th>\n",
       "      <td>7.963793</td>\n",
       "      <td>5.004348</td>\n",
       "      <td>80</td>\n",
       "      <td>61.843705</td>\n",
       "      <td>1</td>\n",
       "    </tr>\n",
       "    <tr>\n",
       "      <th>4</th>\n",
       "      <td>8.279421</td>\n",
       "      <td>2.984489</td>\n",
       "      <td>87</td>\n",
       "      <td>103.495002</td>\n",
       "      <td>0</td>\n",
       "    </tr>\n",
       "  </tbody>\n",
       "</table>\n",
       "</div>"
      ],
      "text/plain": [
       "   Hours of Sleep  Hours Studied  Grade on Test  Grade in Class  \\\n",
       "0       10.602667       4.586892             99       99.187294   \n",
       "1        8.172997       4.405120             72       67.070903   \n",
       "2        6.430132       0.519630             52       39.644696   \n",
       "3        7.963793       5.004348             80       61.843705   \n",
       "4        8.279421       2.984489             87      103.495002   \n",
       "\n",
       "   Cups of Coffee  \n",
       "0               5  \n",
       "1               3  \n",
       "2               4  \n",
       "3               1  \n",
       "4               0  "
      ]
     },
     "execution_count": 1,
     "metadata": {},
     "output_type": "execute_result"
    }
   ],
   "source": [
    "import pandas as pd\n",
    "import seaborn as sns\n",
    "student_data = pd.read_csv('student_data.csv')\n",
    "student_data.head()"
   ]
  },
  {
   "cell_type": "code",
   "execution_count": 2,
   "id": "580ebeae-8d7c-4957-9fff-84d0e0ce00e3",
   "metadata": {},
   "outputs": [
    {
     "data": {
      "text/plain": [
       "<Axes: xlabel='Hours of Sleep', ylabel='Grade on Test'>"
      ]
     },
     "execution_count": 2,
     "metadata": {},
     "output_type": "execute_result"
    },
    {
     "data": {
      "image/png": "[encoded data removed]",
      "text/plain": [
       "<Figure size 640x480 with 1 Axes>"
      ]
     },
     "metadata": {},
     "output_type": "display_data"
    }
   ],
   "source": [
    "#to observe the outliers or interesting patterns\n",
    "\n",
    "sns.scatterplot(data = student_data, x= 'Hours of Sleep', y= 'Grade on Test')"
   ]
  },
  {
   "cell_type": "code",
   "execution_count": 3,
   "id": "0f8d11d9-e683-4d05-b68e-c8c86a838085",
   "metadata": {},
   "outputs": [
    {
     "data": {
      "text/html": [
       "<div>\n",
       "<style scoped>\n",
       "    .dataframe tbody tr th:only-of-type {\n",
       "        vertical-align: middle;\n",
       "    }\n",
       "\n",
       "    .dataframe tbody tr th {\n",
       "        vertical-align: top;\n",
       "    }\n",
       "\n",
       "    .dataframe thead th {\n",
       "        text-align: right;\n",
       "    }\n",
       "</style>\n",
       "<table border=\"1\" class=\"dataframe\">\n",
       "  <thead>\n",
       "    <tr style=\"text-align: right;\">\n",
       "      <th></th>\n",
       "      <th>Hours of Sleep</th>\n",
       "      <th>Hours Studied</th>\n",
       "      <th>Grade on Test</th>\n",
       "      <th>Grade in Class</th>\n",
       "      <th>Cups of Coffee</th>\n",
       "    </tr>\n",
       "  </thead>\n",
       "  <tbody>\n",
       "    <tr>\n",
       "      <th>12</th>\n",
       "      <td>2.000000</td>\n",
       "      <td>4.743829</td>\n",
       "      <td>98</td>\n",
       "      <td>102.670751</td>\n",
       "      <td>1</td>\n",
       "    </tr>\n",
       "    <tr>\n",
       "      <th>67</th>\n",
       "      <td>2.741172</td>\n",
       "      <td>3.498785</td>\n",
       "      <td>51</td>\n",
       "      <td>56.135378</td>\n",
       "      <td>3</td>\n",
       "    </tr>\n",
       "    <tr>\n",
       "      <th>97</th>\n",
       "      <td>2.130628</td>\n",
       "      <td>4.951326</td>\n",
       "      <td>55</td>\n",
       "      <td>48.417485</td>\n",
       "      <td>1</td>\n",
       "    </tr>\n",
       "    <tr>\n",
       "      <th>148</th>\n",
       "      <td>1.899843</td>\n",
       "      <td>1.584035</td>\n",
       "      <td>59</td>\n",
       "      <td>50.616890</td>\n",
       "      <td>5</td>\n",
       "    </tr>\n",
       "  </tbody>\n",
       "</table>\n",
       "</div>"
      ],
      "text/plain": [
       "     Hours of Sleep  Hours Studied  Grade on Test  Grade in Class  \\\n",
       "12         2.000000       4.743829             98      102.670751   \n",
       "67         2.741172       3.498785             51       56.135378   \n",
       "97         2.130628       4.951326             55       48.417485   \n",
       "148        1.899843       1.584035             59       50.616890   \n",
       "\n",
       "     Cups of Coffee  \n",
       "12                1  \n",
       "67                3  \n",
       "97                1  \n",
       "148               5  "
      ]
     },
     "execution_count": 3,
     "metadata": {},
     "output_type": "execute_result"
    }
   ],
   "source": [
    "student_data[student_data['Hours of Sleep'] <3 ]"
   ]
  }
 ],
 "metadata": {
  "kernelspec": {
   "display_name": "Python 3 (ipykernel)",
   "language": "python",
   "name": "python3"
  },
  "language_info": {
   "codemirror_mode": {
    "name": "ipython",
    "version": 3
   },
   "file_extension": ".py",
   "mimetype": "text/x-python",
   "name": "python",
   "nbconvert_exporter": "python",
   "pygments_lexer": "ipython3",
   "version": "3.12.7"
  }
 },
 "nbformat": 4,
 "nbformat_minor": 5
}
